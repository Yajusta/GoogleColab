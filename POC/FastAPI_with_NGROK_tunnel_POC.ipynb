{
  "cells": [
    {
      "cell_type": "markdown",
      "metadata": {
        "id": "jCELY9ax3foh"
      },
      "source": [
        "# Accéder à un serveur (Uvicorn, Flask, ...) qui tourne sur Google Colab\n",
        "\n",
        "Référence : https://www.cheatsheet.fr/2024/05/19/acceder-a-un-serveur-uvicorn-flask-qui-tourne-sur-google-colab/\n",
        "\n",
        "## Créer un tunnel avec Ngrok"
      ]
    },
    {
      "cell_type": "markdown",
      "metadata": {
        "id": "r8azJMIO4PgU"
      },
      "source": [
        "### Installer les dépendances"
      ]
    },
    {
      "cell_type": "code",
      "execution_count": null,
      "metadata": {
        "id": "eG4I03hnnskG"
      },
      "outputs": [],
      "source": [
        "!pip install FastAPI uvicorn pyngrok"
      ]
    },
    {
      "cell_type": "markdown",
      "metadata": {
        "id": "DsC6V_Tn4Sc2"
      },
      "source": [
        "### Notre application FastAPI"
      ]
    },
    {
      "cell_type": "code",
      "execution_count": null,
      "metadata": {
        "id": "BfcxVQfRnUI2"
      },
      "outputs": [],
      "source": [
        "from fastapi import FastAPI\n",
        "from fastapi.middleware.cors import CORSMiddleware\n",
        "\n",
        "app = FastAPI()\n",
        "\n",
        "app.add_middleware(\n",
        "    CORSMiddleware,\n",
        "    allow_origins=['*'],\n",
        "    allow_credentials=True,\n",
        "    allow_methods=['*'],\n",
        "    allow_headers=['*'],\n",
        ")\n",
        "\n",
        "@app.get(\"/\")\n",
        "async def root():\n",
        "    return {\"message\": \"Hello World\"}\n"
      ]
    },
    {
      "cell_type": "markdown",
      "metadata": {
        "id": "xXamDTXr4ae-"
      },
      "source": [
        "### Démarrage du serveur en passant par un tunnel NGrok"
      ]
    },
    {
      "cell_type": "code",
      "execution_count": null,
      "metadata": {
        "id": "rv355qw7qDdT"
      },
      "outputs": [],
      "source": [
        "from pyngrok import ngrok\n",
        "import uvicorn\n",
        "import nest_asyncio\n",
        "from google.colab import userdata\n",
        "\n",
        "# Get your authtoken from https://dashboard.ngrok.com/get-started/your-authtoken\n",
        "auth_token = userdata.get('NGROK_API_KEY')\n",
        "ngrok.set_auth_token(auth_token)\n",
        "ngrok_tunnel = ngrok.connect(8000)\n",
        "print('Public URL:', ngrok_tunnel.public_url)\n",
        "\n",
        "nest_asyncio.apply()\n",
        "uvicorn.run(app, port=8000)"
      ]
    }
  ],
  "metadata": {
    "colab": {
      "provenance": []
    },
    "kernelspec": {
      "display_name": "Python 3",
      "name": "python3"
    },
    "language_info": {
      "name": "python",
      "version": "3.12.0"
    }
  },
  "nbformat": 4,
  "nbformat_minor": 0
}
