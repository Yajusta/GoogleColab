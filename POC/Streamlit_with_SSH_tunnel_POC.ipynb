{
  "nbformat": 4,
  "nbformat_minor": 0,
  "metadata": {
    "colab": {
      "provenance": []
    },
    "kernelspec": {
      "name": "python3",
      "display_name": "Python 3"
    },
    "language_info": {
      "name": "python"
    }
  },
  "cells": [
    {
      "cell_type": "markdown",
      "source": [
        "# Accéder à un serveur (Uvicorn, Flask, ...) qui tourne sur Google Colab\n",
        "\n",
        "Référence : https://www.cheatsheet.fr/2024/05/19/acceder-a-un-serveur-uvicorn-flask-qui-tourne-sur-google-colab/\n",
        "\n",
        "## Créer un tunnel avec SSH"
      ],
      "metadata": {
        "id": "EvjQUU3flfgR"
      }
    },
    {
      "cell_type": "markdown",
      "source": [
        "### Installer les dépendances"
      ],
      "metadata": {
        "id": "L9IxFg6GlhsV"
      }
    },
    {
      "cell_type": "code",
      "execution_count": null,
      "metadata": {
        "id": "rJDXV43ijWWL"
      },
      "outputs": [],
      "source": [
        "!pip install streamlit"
      ]
    },
    {
      "cell_type": "markdown",
      "source": [
        "### Lancer un tunnel SSH\n",
        "#### Avec serveo.net\n",
        "\n",
        "(mais on peut aussi utiliser `nokey@localhost.run`)"
      ],
      "metadata": {
        "id": "Sl8hOGp9lmhl"
      }
    },
    {
      "cell_type": "code",
      "source": [
        "!rm -f nohup.out\n",
        "!ps aux | grep '[s]sh' | awk '{print $2}' | xargs kill -9\n",
        "!nohup ssh -o StrictHostKeyChecking=no -R 80:localhost:8501 serveo.net &\n",
        "!ps -edf | grep ssh\n",
        "!sleep 3\n",
        "!cat nohup.out"
      ],
      "metadata": {
        "id": "96v_YURWjzjl"
      },
      "execution_count": null,
      "outputs": []
    },
    {
      "cell_type": "markdown",
      "source": [
        "### Notre application Streamlit"
      ],
      "metadata": {
        "id": "iVmiy-3Il4RH"
      }
    },
    {
      "cell_type": "code",
      "source": [
        "!streamlit hello"
      ],
      "metadata": {
        "id": "pr2CuAlRjebk"
      },
      "execution_count": null,
      "outputs": []
    }
  ]
}