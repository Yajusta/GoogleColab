{
  "nbformat": 4,
  "nbformat_minor": 0,
  "metadata": {
    "colab": {
      "provenance": []
    },
    "kernelspec": {
      "name": "python3",
      "display_name": "Python 3"
    },
    "language_info": {
      "name": "python"
    }
  },
  "cells": [
    {
      "cell_type": "code",
      "execution_count": null,
      "metadata": {
        "id": "rJDXV43ijWWL"
      },
      "outputs": [],
      "source": [
        "!pip install streamlit"
      ]
    },
    {
      "cell_type": "code",
      "source": [
        "!rm -f nohup.out\n",
        "!ps aux | grep '[s]sh' | awk '{print $2}' | xargs kill -9\n",
        "!nohup ssh -o StrictHostKeyChecking=no -R 80:localhost:8501 serveo.net &\n",
        "!ps -edf | grep ssh\n",
        "!sleep 3\n",
        "!cat nohup.out"
      ],
      "metadata": {
        "id": "96v_YURWjzjl"
      },
      "execution_count": null,
      "outputs": []
    },
    {
      "cell_type": "code",
      "source": [
        "!streamlit hello"
      ],
      "metadata": {
        "id": "pr2CuAlRjebk"
      },
      "execution_count": null,
      "outputs": []
    }
  ]
}