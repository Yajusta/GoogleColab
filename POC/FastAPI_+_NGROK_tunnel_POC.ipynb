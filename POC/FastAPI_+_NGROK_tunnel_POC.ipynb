{
  "nbformat": 4,
  "nbformat_minor": 0,
  "metadata": {
    "colab": {
      "provenance": []
    },
    "kernelspec": {
      "name": "python3",
      "display_name": "Python 3"
    },
    "language_info": {
      "name": "python"
    }
  },
  "cells": [
    {
      "cell_type": "markdown",
      "source": [
        "# Accéder à un serveur (Uvicorn, Flask, ...) qui tourne sur Google Colab\n",
        "\n",
        "Référence : https://www.cheatsheet.fr/2024/05/19/acceder-a-un-serveur-uvicorn-flask-qui-tourne-sur-google-colab/\n",
        "\n",
        "## Créer un tunnel avec Ngrok"
      ],
      "metadata": {
        "id": "jCELY9ax3foh"
      }
    },
    {
      "cell_type": "markdown",
      "source": [
        "### Installer les dépendances"
      ],
      "metadata": {
        "id": "r8azJMIO4PgU"
      }
    },
    {
      "cell_type": "code",
      "source": [
        "!pip install FastAPI uvicorn pyngrok"
      ],
      "metadata": {
        "id": "eG4I03hnnskG"
      },
      "execution_count": null,
      "outputs": []
    },
    {
      "cell_type": "markdown",
      "source": [
        "### Notre application FastAPI"
      ],
      "metadata": {
        "id": "DsC6V_Tn4Sc2"
      }
    },
    {
      "cell_type": "code",
      "execution_count": 3,
      "metadata": {
        "id": "BfcxVQfRnUI2"
      },
      "outputs": [],
      "source": [
        "from fastapi import FastAPI\n",
        "from fastapi.middleware.cors import CORSMiddleware\n",
        "\n",
        "app = FastAPI()\n",
        "\n",
        "app.add_middleware(\n",
        "    CORSMiddleware,\n",
        "    allow_origins=['*'],\n",
        "    allow_credentials=True,\n",
        "    allow_methods=['*'],\n",
        "    allow_headers=['*'],\n",
        ")\n",
        "\n",
        "@app.get(\"/\")\n",
        "async def root():\n",
        "    return {\"message\": \"Hello World\"}\n"
      ]
    },
    {
      "cell_type": "markdown",
      "source": [
        "### Démarrage du serveur en passant par un tunnel NGrok"
      ],
      "metadata": {
        "id": "xXamDTXr4ae-"
      }
    },
    {
      "cell_type": "code",
      "source": [
        "from pyngrok import ngrok\n",
        "import uvicorn\n",
        "import nest_asyncio\n",
        "from google.colab import userdata\n",
        "\n",
        "# Get your authtoken from https://dashboard.ngrok.com/get-started/your-authtoken\n",
        "auth_token = userdata.get('NGROK_API_KEY')\n",
        "ngrok.set_auth_token(auth_token)\n",
        "ngrok_tunnel = ngrok.connect(8000)\n",
        "print('Public URL:', ngrok_tunnel.public_url)\n",
        "\n",
        "nest_asyncio.apply()\n",
        "uvicorn.run(app, port=8000)"
      ],
      "metadata": {
        "id": "rv355qw7qDdT"
      },
      "execution_count": null,
      "outputs": []
    }
  ]
}
