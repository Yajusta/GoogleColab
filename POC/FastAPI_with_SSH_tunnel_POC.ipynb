{
  "nbformat": 4,
  "nbformat_minor": 0,
  "metadata": {
    "colab": {
      "provenance": []
    },
    "kernelspec": {
      "name": "python3",
      "display_name": "Python 3"
    },
    "language_info": {
      "name": "python"
    }
  },
  "cells": [
    {
      "cell_type": "markdown",
      "source": [
        "# Accéder à un serveur (Uvicorn, Flask, ...) qui tourne sur Google Colab\n",
        "\n",
        "Référence : https://www.cheatsheet.fr/2024/05/19/acceder-a-un-serveur-uvicorn-flask-qui-tourne-sur-google-colab/\n",
        "\n",
        "## Créer un tunnel avec SSH"
      ],
      "metadata": {
        "id": "mq1abNjiAAia"
      }
    },
    {
      "cell_type": "markdown",
      "source": [
        "### Installer les dépendances"
      ],
      "metadata": {
        "id": "y2tOhr_2AeDV"
      }
    },
    {
      "cell_type": "code",
      "source": [
        "!pip install FastAPI uvicorn nest_asyncio"
      ],
      "metadata": {
        "id": "eG4I03hnnskG",
        "collapsed": true
      },
      "execution_count": null,
      "outputs": []
    },
    {
      "cell_type": "markdown",
      "source": [
        "### Lancer un tunnel SSH\n",
        "\n",
        "#### Avec localhost.run"
      ],
      "metadata": {
        "id": "mjqGreEiAhNI"
      }
    },
    {
      "cell_type": "code",
      "source": [
        "!rm -f nohup.out\n",
        "!ps aux | grep '[s]sh' | awk '{print $2}' | xargs kill -9\n",
        "!nohup ssh -o StrictHostKeyChecking=no -R 80:localhost:8000 nokey@localhost.run &\n",
        "!ps -edf | grep ssh\n",
        "!sleep 3\n",
        "!cat nohup.out"
      ],
      "metadata": {
        "id": "itSzS8DHQ8gc",
        "collapsed": true
      },
      "execution_count": null,
      "outputs": []
    },
    {
      "cell_type": "markdown",
      "source": [
        "#### ou avec serveo.net"
      ],
      "metadata": {
        "id": "g-95LWOqh0zz"
      }
    },
    {
      "cell_type": "code",
      "source": [
        "!rm -f nohup.out\n",
        "!ps aux | grep '[s]sh' | awk '{print $2}' | xargs kill -9\n",
        "!nohup ssh -o StrictHostKeyChecking=no -R 80:localhost:8000 serveo.net &\n",
        "!ps -edf | grep ssh\n",
        "!sleep 3\n",
        "!cat nohup.out"
      ],
      "metadata": {
        "colab": {
          "base_uri": "https://localhost:8080/"
        },
        "id": "C9cWqRpnhpwi",
        "outputId": "bfd6d76a-3203-40f0-d94e-7d93c929a0b8"
      },
      "execution_count": 13,
      "outputs": [
        {
          "output_type": "stream",
          "name": "stdout",
          "text": [
            "nohup: appending output to 'nohup.out'\n",
            "root       33330       1  0 17:02 ?        00:00:00 ssh -o StrictHostKeyChecking=no -R 80:localhost:\n",
            "root       33331     303  0 17:02 ?        00:00:00 /bin/bash -c ps -edf | grep ssh\n",
            "root       33333   33331  0 17:02 ?        00:00:00 grep ssh\n",
            "Pseudo-terminal will not be allocated because stdin is not a terminal.\n",
            "\u001b[32mForwarding HTTP traffic from https://373bbcd1efe9fe9aafbc3e356c368c4b.serveo.net\n",
            "\u001b[0m"
          ]
        }
      ]
    },
    {
      "cell_type": "markdown",
      "source": [
        "### Notre application FastAPI"
      ],
      "metadata": {
        "id": "nQPlPIqNA281"
      }
    },
    {
      "cell_type": "code",
      "execution_count": null,
      "metadata": {
        "id": "BfcxVQfRnUI2"
      },
      "outputs": [],
      "source": [
        "from fastapi import FastAPI\n",
        "from fastapi.middleware.cors import CORSMiddleware\n",
        "\n",
        "app = FastAPI()\n",
        "\n",
        "app.add_middleware(\n",
        "    CORSMiddleware,\n",
        "    allow_origins=['*'],\n",
        "    allow_credentials=True,\n",
        "    allow_methods=['*'],\n",
        "    allow_headers=['*'],\n",
        ")\n",
        "\n",
        "@app.get(\"/\")\n",
        "async def root():\n",
        "    return {\"message\": \"Hello World !\"}\n",
        "\n",
        "import uvicorn\n",
        "import nest_asyncio\n",
        "# Apply nest_asyncio to allow running uvicorn in Colab\n",
        "nest_asyncio.apply()\n",
        "uvicorn.run(app, port=8000)"
      ]
    }
  ]
}